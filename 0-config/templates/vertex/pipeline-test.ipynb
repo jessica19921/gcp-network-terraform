{
 "cells": [
  {
   "cell_type": "code",
   "execution_count": 48,
   "id": "e9fb668a-9f06-4f7f-8f3d-30a81de0b4c3",
   "metadata": {},
   "outputs": [],
   "source": [
    "import kfp.components as comp\n",
    "import kfp.v2 as kfp\n",
    "import kfp.v2.dsl as dsl\n",
    "from kfp.v2 import compiler\n",
    "from kfp.v2.dsl import (\n",
    "    component,\n",
    "    Input,\n",
    "    Output,\n",
    "    HTML\n",
    ")\n",
    "\n",
    "from typing import NamedTuple\n",
    "\n",
    "@component(\n",
    "    packages_to_install=[], \n",
    "    base_image='python:3.9',\n",
    ")\n",
    "def html_get_comp( \n",
    "    http_url: str,\n",
    "    report: Output[HTML]\n",
    ")  -> None:\n",
    "    \n",
    "    import urllib.request\n",
    "\n",
    "    fp = urllib.request.urlopen(http_url)\n",
    "    mybytes = fp.read()\n",
    "\n",
    "    mystr = mybytes.decode(\"utf8\")\n",
    "    fp.close()\n",
    "\n",
    "    #print(mystr)\n",
    "    with open(report.path, 'w') as f:\n",
    "        f.write(mystr)\n",
    "    \n",
    "    return "
   ]
  },
  {
   "cell_type": "code",
   "execution_count": 49,
   "id": "0ff57206-4ef6-44a5-8939-17330857fc8a",
   "metadata": {},
   "outputs": [],
   "source": [
    "from unittest.mock import Mock, MagicMock, patch\n",
    "from unittest import mock\n",
    "\n",
    "report = Mock(spec=HTML, path = \"./report.html\")\n",
    "\n",
    "html_get_comp.python_func(\n",
    "        http_url=\"http://www.python.org\", \n",
    "        report=report)"
   ]
  },
  {
   "cell_type": "code",
   "execution_count": 56,
   "id": "d68a13a5-d533-4ca3-a750-628d8857f12d",
   "metadata": {},
   "outputs": [],
   "source": [
    "from kfp.dsl.types import GCPProjectID\n",
    "@dsl.pipeline(\n",
    "  name='html-get-pipeline',\n",
    "  description='pipeline that gets an HTML content and dumpts it into an artefact',\n",
    ")\n",
    "def html_pipeline(\n",
    "    http_url: str=\"http://www.python.org\"\n",
    "):\n",
    "    \n",
    "    http_url_op = html_get_comp(http_url= http_url)\n",
    "    "
   ]
  },
  {
   "cell_type": "code",
   "execution_count": 57,
   "id": "0758192b-cd5a-4e96-b9f6-7a7d0c967c0d",
   "metadata": {},
   "outputs": [],
   "source": [
    "\n",
    "compiler.Compiler().compile(\n",
    "        pipeline_func=html_pipeline,\n",
    "        package_path=\"html_pipeline.json\"\n",
    ")"
   ]
  },
  {
   "cell_type": "code",
   "execution_count": null,
   "id": "29811300-dd8a-41b8-b843-13505333c7df",
   "metadata": {},
   "outputs": [],
   "source": []
  }
 ],
 "metadata": {
  "environment": {
   "kernel": "python3",
   "name": "managed-notebooks.m87",
   "type": "gcloud",
   "uri": "gcr.io/deeplearning-platform-release/base-cu110:latest"
  },
  "kernelspec": {
   "display_name": "Python (Local)",
   "language": "python",
   "name": "local-base"
  },
  "language_info": {
   "codemirror_mode": {
    "name": "ipython",
    "version": 3
   },
   "file_extension": ".py",
   "mimetype": "text/x-python",
   "name": "python",
   "nbconvert_exporter": "python",
   "pygments_lexer": "ipython3",
   "version": "3.7.12"
  }
 },
 "nbformat": 4,
 "nbformat_minor": 5
}
